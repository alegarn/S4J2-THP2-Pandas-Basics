{
 "cells": [
  {
   "cell_type": "markdown",
   "metadata": {},
   "source": [
    "# Répondre aux questions posées par ton manager\n",
    "\n",
    "Ton manager t'a donné une liste de questions pour te rendre la tâche plus concrète. Il t'a demandé de répondre à ces questions dans un premier temps en laissant apparentes tes requêtes sur le Notebook.\n",
    "\n",
    "- Combien y-a-t-il de musées en France métropolitaine ?\n",
    "- Dans quelle(s) ville(s) y-a-t-il de plus de musées ?\n",
    "- Quel est le nombre moyen de musées par ville ?\n",
    "- Quel est le nombre médian de musées par ville ?\n",
    "- Comment sont répartis les musées par type (en pourcentage) ?\n",
    "- Combien y-a-t-il de musées dont le nom commence par \"Château\" ?\n",
    "- Pour combien de musées dispose-t-on de l'adresse du site web ?\n",
    "- Quel département français possède le plus de musées sur son territoire ?\n",
    "- Quel département français possède le moins de musées sur son territoire ?\n",
    "- Combien de musées ont \"Napoléon\" dans leur nom ?\n"
   ]
  },
  {
   "cell_type": "markdown",
   "metadata": {},
   "source": [
    "https://www.askpython.com/python/examples/how-to-clean-data-in-python"
   ]
  },
  {
   "cell_type": "code",
   "execution_count": 1,
   "metadata": {},
   "outputs": [
    {
     "name": "stdout",
     "output_type": "stream",
     "text": [
      "                              name number                      street  \\\n",
      "0                          3 bis f    109  Avenue du Petit Barth�l�my   \n",
      "1                 A casa di Losari    NaN                        T 30   \n",
      "2                 � l'homme volant     35                  Grande Rue   \n",
      "3      Abbadiale - Maison des arts    NaN              Rue du Gabizos   \n",
      "4                           Abbaye    NaN             Rue de l'Abbaye   \n",
      "5  Abbaye cistercienne de Fontenay    NaN                       D 32C   \n",
      "6                 Abbaye d'Arthous    NaN           Route de l'Abbaye   \n",
      "7               Abbaye de Charlieu    NaN            All�e Sunderland   \n",
      "8   Abbaye de Clairvaux (ancienne)    NaN             Rue de l'Abbaye   \n",
      "9                  Abbaye de Cluny    NaN       Place du 11 Ao�t 1944   \n",
      "\n",
      "   postal_code              city  \\\n",
      "0      13617.0   Aix-en-Provence   \n",
      "1      20226.0         Belgod�re   \n",
      "2      72300.0  Sabl�-sur-Sarthe   \n",
      "3      65400.0  Arras-en-Lavedan   \n",
      "4      39210.0    Ch�teau-Chalon   \n",
      "5      21500.0          Marmagne   \n",
      "6      40300.0        Hastingues   \n",
      "7      42190.0          Charlieu   \n",
      "8      10310.0         Clairvaux   \n",
      "9      71250.0             Cluny   \n",
      "\n",
      "                                             website  \\\n",
      "0                               http://www.3bisf.com   \n",
      "1                                                NaN   \n",
      "2                                                NaN   \n",
      "3                          https://www.abbadiale.fr/   \n",
      "4                                                NaN   \n",
      "5                    http://www.abbayedefontenay.com   \n",
      "6                          http://arthous.landes.fr/   \n",
      "7                                                NaN   \n",
      "8                 https://www.abbayedeclairvaux.com/   \n",
      "9  http://www.cluny.fr/71/CLUNY/TOURISME/tourisme...   \n",
      "\n",
      "                       email         phone  \\\n",
      "0          contact@3bisf.com  3.344216e+10   \n",
      "1                        NaN           NaN   \n",
      "2                        NaN  3.324395e+10   \n",
      "3                        NaN  3.363317e+10   \n",
      "4                        NaN           NaN   \n",
      "5  info@abbayedefontenay.com  3.338092e+10   \n",
      "6                        NaN  3.355873e+10   \n",
      "7                        NaN           NaN   \n",
      "8                        NaN           NaN   \n",
      "9                        NaN  3.338559e+10   \n",
      "\n",
      "                                      tags  \n",
      "0          osm:museum;art:art contemporain  \n",
      "1                               osm:museum  \n",
      "2  osm:museum;type:centre d'interpretation  \n",
      "3                               osm:museum  \n",
      "4              osm:museum;art:architecture  \n",
      "5              osm:museum;art:architecture  \n",
      "6              osm:museum;art:architecture  \n",
      "7              osm:museum;art:architecture  \n",
      "8              osm:museum;art:architecture  \n",
      "9              osm:museum;art:architecture  \n"
     ]
    }
   ],
   "source": [
    "import seaborn as sns\n",
    "import numpy as np\n",
    "import pandas as pd\n",
    "\n",
    "import csv\n",
    "df = pd.read_csv(r'liste-des-musees-de-france-2021-point-virgules.csv', sep=\";\")\n",
    "\n",
    "columns_to_drop = ['osm_id', 'country_code', 'country', 'lat','lon', 'wikidata', 'fax', 'description', 'date_added' ]\n",
    "data_dropcol = df.drop(columns_to_drop,axis=1)\n",
    "\n",
    "print(data_dropcol.head(10))\n",
    "\n",
    "\n"
   ]
  },
  {
   "cell_type": "markdown",
   "metadata": {},
   "source": [
    "- Combien y-a-t-il de musées en France métropolitaine ?"
   ]
  },
  {
   "cell_type": "code",
   "execution_count": 2,
   "metadata": {},
   "outputs": [
    {
     "name": "stdout",
     "output_type": "stream",
     "text": [
      "Il y a au total 3784 musées en France.\n"
     ]
    }
   ],
   "source": [
    "index = data_dropcol.index\n",
    "number_of_rows = len(index)\n",
    "total_museum = number_of_rows\n",
    "\n",
    "museum_number_template = \"\"\"Il y a au total {} musées en France.\"\"\"\n",
    "\n",
    "museum_number_message = museum_number_template.format(total_museum)\n",
    "print(museum_number_message)\n"
   ]
  },
  {
   "cell_type": "markdown",
   "metadata": {},
   "source": [
    "- Dans quelle(s) ville(s) y-a-t-il de plus de musées ?"
   ]
  },
  {
   "cell_type": "code",
   "execution_count": 3,
   "metadata": {},
   "outputs": [
    {
     "name": "stdout",
     "output_type": "stream",
     "text": [
      "Le top 10 'villes avec le plus de musées en France: \n",
      "[Paris]         175\n",
      "[Lyon]           33\n",
      "[Marseille]      28\n",
      "[Grenoble]       22\n",
      "[Bordeaux]       20\n",
      "[Toulouse]       20\n",
      "[Nice]           16\n",
      "[Strasbourg]     16\n",
      "[Rouen]          15\n",
      "[Lille]          15\n",
      "[Reims]          13\n",
      "Name: city, dtype: int64 \n"
     ]
    }
   ],
   "source": [
    "data_cities_all_col = pd.DataFrame(data_dropcol, columns= ['name','city'])\n",
    "\n",
    "city_museum_number_template = \"\"\"Il y a au total {} musées en France.\"\"\"\n",
    "\n",
    "\n",
    "museum_number_each_city = data_cities_all_col.pivot_table( columns=['city'], aggfunc='size').sort_values\n",
    "number = data_cities_all_col['city'].str.split(' ').str[0:3].value_counts()\n",
    "\n",
    "number_top_10_text = \"\"\"Le top 10 'villes avec le plus de musées en France: \n",
    "{} \"\"\"\n",
    "\n",
    "number_top_10_message = number_top_10_text.format(number[0:11])\n",
    "\n",
    "\n",
    "print (number_top_10_message)\n",
    "\n"
   ]
  },
  {
   "cell_type": "markdown",
   "metadata": {},
   "source": [
    "- Quel est le nombre moyen de musées par ville ?"
   ]
  },
  {
   "cell_type": "code",
   "execution_count": 15,
   "metadata": {},
   "outputs": [
    {
     "name": "stdout",
     "output_type": "stream",
     "text": [
      "Il y a en moyenne 1.647930283224401 musées par ville.\n"
     ]
    }
   ],
   "source": [
    "per_city_number_museum_mean = \"\"\"Il y a en moyenne {} musées par ville.\"\"\"\n",
    "museum_number_each_city_mean = data_cities_all_col.pivot_table( columns=['city'], aggfunc='size').mean(axis=0)\n",
    "museum_mean_message = per_city_number_museum_mean.format(museum_number_each_city_mean)\n",
    "\n",
    "print(museum_mean_message)"
   ]
  },
  {
   "cell_type": "markdown",
   "metadata": {},
   "source": [
    "- Quel est le nombre médian de musées par ville ?"
   ]
  },
  {
   "cell_type": "code",
   "execution_count": 16,
   "metadata": {},
   "outputs": [
    {
     "name": "stdout",
     "output_type": "stream",
     "text": [
      "Nombre médian de musées par ville: 1.0\n"
     ]
    }
   ],
   "source": [
    "per_city_number_museum_median = \"\"\"Nombre médian de musées par ville: {}\"\"\"\n",
    "museum_number_each_city_median = data_cities_all_col.pivot_table( columns=['city'], aggfunc='size').median(axis=0)\n",
    "museum_median_message = per_city_number_museum_median.format(museum_number_each_city_median)\n",
    "\n",
    "print(museum_median_message)"
   ]
  },
  {
   "cell_type": "markdown",
   "metadata": {},
   "source": [
    "- Comment sont répartis les musées par type (en pourcentage) ? "
   ]
  },
  {
   "cell_type": "code",
   "execution_count": 25,
   "metadata": {},
   "outputs": [
    {
     "name": "stdout",
     "output_type": "stream",
     "text": [
      "Voici la répartition (> 5%) des types de musée: \n",
      "                                               size    percent\n",
      "tags                                                          \n",
      "osm:museum                                     2175  57.509254\n",
      "osm:museum;type:ecomusee                        387  10.232681\n",
      "osm:museum;type:musee technique et industriel   194   5.129561\n"
     ]
    }
   ],
   "source": [
    "data_tags = pd.DataFrame(data_dropcol, columns = ['name','tags'])\n",
    "\n",
    "museum_number_each_tag = data_tags.pivot_table(columns=['tags'], aggfunc='size')\n",
    "\n",
    "museum_number_each_tag_percent = pd.DataFrame(museum_number_each_tag, columns=['size'])\n",
    "\n",
    "museum_number_each_tag_percent['percent'] = (museum_number_each_tag_percent['size'] / museum_number_each_tag_percent['size'].sum()) * 100\n",
    "\n",
    "sample = museum_number_each_tag_percent.loc[museum_number_each_tag_percent[\"percent\"]>5]\n",
    "\n",
    "museum_tag_message_string = \"\"\"Voici la répartition (> 5%) des types de musée: \n",
    "{}\"\"\"\n",
    "museum_tag_message = museum_tag_message_string.format(sample)\n",
    "\n",
    "print(museum_tag_message)"
   ]
  },
  {
   "cell_type": "markdown",
   "metadata": {},
   "source": []
  },
  {
   "cell_type": "markdown",
   "metadata": {},
   "source": [
    "- Combien y-a-t-il de musées dont le nom commence par \"Château\" ?"
   ]
  },
  {
   "cell_type": "code",
   "execution_count": 27,
   "metadata": {},
   "outputs": [
    {
     "name": "stdout",
     "output_type": "stream",
     "text": [
      "Il y a un nombre de 'Château' musée de 48 .\n"
     ]
    }
   ],
   "source": [
    "name_castle_sentence = \"\"\"Il y a un nombre de 'Château' musée de {} .\"\"\"\n",
    "sample\n",
    "name_castle = pd.DataFrame(data_dropcol, columns= ['name']).add_prefix('name_')\n",
    "name_castle['name'] = data_dropcol['name'].str.replace('�', \"â\")\n",
    "new = name_castle['name'].str.split(' ').str[0].value_counts()\n",
    "\n",
    "print(name_castle_sentence.format(new['Château']))\n",
    "#new.str.startswith('Château')[298:300]"
   ]
  },
  {
   "cell_type": "markdown",
   "metadata": {},
   "source": [
    "- Pour combien de musées dispose-t-on de l'adresse du site web ?"
   ]
  },
  {
   "cell_type": "code",
   "execution_count": 28,
   "metadata": {},
   "outputs": [
    {
     "name": "stdout",
     "output_type": "stream",
     "text": [
      "Il y a 1636 musées possédant un site internet.\n"
     ]
    }
   ],
   "source": [
    "with_website_template = \"\"\"Il y a {} musées possédant un site internet.\"\"\"\n",
    "\n",
    "frame_internet = data_dropcol.pivot_table(index=\"website\", values=\"name\", aggfunc=np.count_nonzero)\n",
    "\n",
    "\n",
    "with_website = with_website_template.format(frame_internet.sum(axis=0)['name'])\n",
    "\n",
    "print(with_website)\n"
   ]
  },
  {
   "cell_type": "markdown",
   "metadata": {},
   "source": [
    "- Quel département français possède le plus de musées sur son territoire ?"
   ]
  },
  {
   "cell_type": "code",
   "execution_count": 80,
   "metadata": {},
   "outputs": [
    {
     "name": "stdout",
     "output_type": "stream",
     "text": [
      "Le département français ayant le plus de musées est le 75  avec 180 musées.\n"
     ]
    }
   ],
   "source": [
    "city_zipcode_text = \"\"\"Le département français ayant le plus de musées est le {} avec {} musées.\"\"\"\n",
    "\n",
    "city_zipcode = pd.DataFrame(data_dropcol, columns= ['name', 'postal_code']) \n",
    "city_zipcode['department'] = city_zipcode['postal_code'].astype(str).str[:2]\n",
    "museum_each_dep = city_zipcode.pivot_table(columns=['department'], aggfunc='size').add_prefix('zip_')\n",
    "\n",
    "city_zipcode_message_zip = city_zipcode_text.format(museum_each_dep.loc[museum_each_dep == museum_each_dep.max()].to_string()[15:18], museum_each_dep.loc[museum_each_dep == museum_each_dep.max()][0])\n",
    "#city_zipcode_message_value = city_zipcode_text.format(museum_each_dep.loc[museum_each_dep == museum_each_dep.max()])\n",
    "                                                \n",
    "print(city_zipcode_message_zip)"
   ]
  },
  {
   "cell_type": "markdown",
   "metadata": {},
   "source": [
    "- Quel département français possède le moins de musées sur son territoire ?"
   ]
  },
  {
   "cell_type": "code",
   "execution_count": 79,
   "metadata": {},
   "outputs": [
    {
     "name": "stdout",
     "output_type": "stream",
     "text": [
      "Le département français ayant le moins de musées est le 98  avec 8 musées.\n"
     ]
    }
   ],
   "source": [
    "city_zipcode_text_lower = \"\"\"Le département français ayant le moins de musées est le {} avec {} musées.\"\"\"\n",
    "dep_zip_less = museum_each_dep.loc[museum_each_dep == museum_each_dep.min()].to_string()\n",
    "dep_zip_total_min = museum_each_dep.loc[museum_each_dep == museum_each_dep.min()][0]\n",
    "\n",
    "city_zipcode_full_message = city_zipcode_text_lower.format(dep_zip_less[15:18], dep_zip_total_min)\n",
    "\n",
    "\n",
    "print(city_zipcode_full_message)"
   ]
  },
  {
   "cell_type": "markdown",
   "metadata": {},
   "source": [
    "- Combien de musées ont \"Napoléon\" dans leur nom ?"
   ]
  },
  {
   "cell_type": "code",
   "execution_count": 35,
   "metadata": {},
   "outputs": [
    {
     "name": "stdout",
     "output_type": "stream",
     "text": [
      "Il y a name    4 musées 'Napoléon'.\n"
     ]
    }
   ],
   "source": [
    "number_museum_emperor_template = \"\"\"Il y a {} musées 'Napoléon'.\"\"\"\n",
    "\n",
    "search_name = pd.DataFrame(data_dropcol, columns= ['name']) \n",
    "search_name['name'] = data_dropcol['name'].str.replace('�', \"é\")\n",
    "contain_values = search_name[search_name['name'].str.contains('Napoléon')].count()\n",
    "\n",
    "number_museum_emperor_text = number_museum_emperor_template.format(contain_values.to_string())\n",
    "\n",
    "print(number_museum_emperor_text)"
   ]
  },
  {
   "cell_type": "markdown",
   "metadata": {},
   "source": [
    "### Enrichir le projet\n",
    "\n",
    "Sur le site https://www.data.gouv.fr/, la fréquentation des musées pour les années 2013, 2014 ... 2018 est disponible à l'adresse suivante: https://www.data.gouv.fr/fr/datasets/frequentation-des-musees-de-france/#resources\n",
    "\n",
    "En croisant ces fichiers, la fréquentation des musées sera alors connue. Alors on peut imaginer créer des Top ou Flop des grands musées de France, des départements ou encore des régions.\n",
    "\n",
    "Il est possible de croiser localisation musée / bar sur le site https://data.opendatasoft.com, à cette adresse: https://data.opendatasoft.com/explore/embed/dataset/osm-fr-bars@babel/table/. \n",
    "\n",
    "Après le musée, terminer sa journée en beautée dans son choix de bar en ville."
   ]
  }
 ],
 "metadata": {
  "kernelspec": {
   "display_name": "Python 3 (ipykernel)",
   "language": "python",
   "name": "python3"
  },
  "language_info": {
   "codemirror_mode": {
    "name": "ipython",
    "version": 3
   },
   "file_extension": ".py",
   "mimetype": "text/x-python",
   "name": "python",
   "nbconvert_exporter": "python",
   "pygments_lexer": "ipython3",
   "version": "3.9.7"
  }
 },
 "nbformat": 4,
 "nbformat_minor": 4
}
